{
  "cells": [
    {
      "cell_type": "code",
      "execution_count": 1,
      "metadata": {
        "colab": {
          "base_uri": "https://localhost:8080/"
        },
        "id": "n2lQKEk7gCVJ",
        "outputId": "2f1b6bae-1281-46fa-b2b5-45b5056bf143"
      },
      "outputs": [
        {
          "name": "stderr",
          "output_type": "stream",
          "text": [
            "c:\\Users\\Laxhmi Sai\\Downloads\\Project_ML\\.venv\\Lib\\site-packages\\sklearn\\base.py:493: UserWarning: X does not have valid feature names, but KNeighborsClassifier was fitted with feature names\n",
            "  warnings.warn(\n"
          ]
        },
        {
          "name": "stdout",
          "output_type": "stream",
          "text": [
            "KNN Prediction: [1]\n",
            "Random Forest Prediction: [1]\n",
            "SVM Prediction: [1]\n",
            "KNN: The Breast cancer is Malignant\n",
            "Random Forest: The Breast cancer is Malignant\n",
            "SVM: The Breast cancer is Malignant\n"
          ]
        },
        {
          "name": "stderr",
          "output_type": "stream",
          "text": [
            "c:\\Users\\Laxhmi Sai\\Downloads\\Project_ML\\.venv\\Lib\\site-packages\\sklearn\\base.py:493: UserWarning: X does not have valid feature names, but RandomForestClassifier was fitted with feature names\n",
            "  warnings.warn(\n",
            "c:\\Users\\Laxhmi Sai\\Downloads\\Project_ML\\.venv\\Lib\\site-packages\\sklearn\\base.py:493: UserWarning: X does not have valid feature names, but SVC was fitted with feature names\n",
            "  warnings.warn(\n"
          ]
        }
      ],
      "source": [
        "import numpy as np\n",
        "from sklearn.metrics import accuracy_score\n",
        "import pickle\n",
        "\n",
        "# Load KNN model\n",
        "with open('knn_model.pkl', 'rb') as file:\n",
        "    knn_model = pickle.load(file)\n",
        "\n",
        "# Load Random Forest model\n",
        "with open('random_forest_model (1).pkl', 'rb') as file:\n",
        "    rand = pickle.load(file)\n",
        "\n",
        "# Load SVM model\n",
        "with open('svm_model.pkl', 'rb') as file:\n",
        "    classifier = pickle.load(file)\n",
        "\n",
        "\n",
        "\n",
        "# Example input data for prediction\n",
        "input_data=[20.57,17.77,132.9,1326,0.08474,0.07864,0.0869,0.07017,0.1812,0.05667,0.5435,0.7339,3.398,74.08,0.005225,0.01308,0.0186,0.0134,0.01389,0.003532,24.99,23.41,158.8,1956,0.1238,0.1866,0.2416,0.186,0.275,0.08902\n",
        "\n",
        "]\n",
        "\n",
        "# Convert input data to numpy array\n",
        "input_data_array = np.array(input_data).reshape(1, -1)\n",
        "\n",
        "# Make predictions for each model\n",
        "knn_prediction = knn_model.predict(input_data_array)\n",
        "rand_prediction = rand.predict(input_data_array)\n",
        "svm_prediction = classifier.predict(input_data_array)\n",
        "\n",
        "\n",
        "# Print predictions\n",
        "print(\"KNN Prediction:\", knn_prediction)\n",
        "print(\"Random Forest Prediction:\", rand_prediction)\n",
        "print(\"SVM Prediction:\", svm_prediction)\n",
        "\n",
        "\n",
        "# Check prediction result for KNN model\n",
        "if knn_prediction[0] == 1:\n",
        "    print('KNN: The Breast cancer is Malignant')\n",
        "else:\n",
        "    print('KNN: The Breast Cancer is Benign')\n",
        "\n",
        "# Check prediction result for Random Forest model\n",
        "if rand_prediction[0] == 1:\n",
        "    print('Random Forest: The Breast cancer is Malignant')\n",
        "else:\n",
        "    print('Random Forest: The Breast Cancer is Benign')\n",
        "\n",
        "# Check prediction result for SVM model\n",
        "if svm_prediction[0] == 1:\n",
        "    print('SVM: The Breast cancer is Malignant')\n",
        "else:\n",
        "    print('SVM: The Breast Cancer is Benign')\n",
        "\n",
        "# Check prediction result for MLP Classifier model\n",
        "\n",
        "\n"
      ]
    },
    {
      "cell_type": "code",
      "execution_count": 6,
      "metadata": {},
      "outputs": [
        {
          "name": "stdout",
          "output_type": "stream",
          "text": [
            "KNN Prediction: [1]\n",
            "KNN Accuracy: 1.0\n",
            "KNN: The Breast cancer is Malignant\n",
            "Random Forest Prediction: [1]\n",
            "Random Forest Accuracy: 1.0\n",
            "Random Forest: The Breast cancer is Malignant\n",
            "SVM Prediction: [1]\n",
            "SVM Accuracy: 1.0\n",
            "SVM: The Breast cancer is Malignant\n"
          ]
        },
        {
          "name": "stderr",
          "output_type": "stream",
          "text": [
            "c:\\Users\\Laxhmi Sai\\Downloads\\Project_ML\\.venv\\Lib\\site-packages\\sklearn\\base.py:376: InconsistentVersionWarning: Trying to unpickle estimator KNeighborsClassifier from version 1.0.2 when using version 1.4.2. This might lead to breaking code or invalid results. Use at your own risk. For more info please refer to:\n",
            "https://scikit-learn.org/stable/model_persistence.html#security-maintainability-limitations\n",
            "  warnings.warn(\n",
            "c:\\Users\\Laxhmi Sai\\Downloads\\Project_ML\\.venv\\Lib\\site-packages\\sklearn\\base.py:376: InconsistentVersionWarning: Trying to unpickle estimator SVC from version 1.0.2 when using version 1.4.2. This might lead to breaking code or invalid results. Use at your own risk. For more info please refer to:\n",
            "https://scikit-learn.org/stable/model_persistence.html#security-maintainability-limitations\n",
            "  warnings.warn(\n",
            "c:\\Users\\Laxhmi Sai\\Downloads\\Project_ML\\.venv\\Lib\\site-packages\\sklearn\\base.py:493: UserWarning: X does not have valid feature names, but KNeighborsClassifier was fitted with feature names\n",
            "  warnings.warn(\n",
            "c:\\Users\\Laxhmi Sai\\Downloads\\Project_ML\\.venv\\Lib\\site-packages\\sklearn\\base.py:493: UserWarning: X does not have valid feature names, but RandomForestClassifier was fitted with feature names\n",
            "  warnings.warn(\n",
            "c:\\Users\\Laxhmi Sai\\Downloads\\Project_ML\\.venv\\Lib\\site-packages\\sklearn\\base.py:493: UserWarning: X does not have valid feature names, but SVC was fitted with feature names\n",
            "  warnings.warn(\n"
          ]
        }
      ],
      "source": [
        "import numpy as np\n",
        "from sklearn.metrics import accuracy_score\n",
        "import pickle\n",
        "\n",
        "# Load KNN model\n",
        "with open('knn_model.pkl', 'rb') as file:\n",
        "    knn_model = pickle.load(file)\n",
        "\n",
        "# Load Random Forest model\n",
        "with open('random_forest_model (1).pkl', 'rb') as file:\n",
        "    rand = pickle.load(file)\n",
        "\n",
        "# Load SVM model\n",
        "with open('svm_model.pkl', 'rb') as file:\n",
        "    classifier = pickle.load(file)\n",
        "\n",
        "# Example input data for prediction\n",
        "input_data = [20.57,17.77,132.9,1326,0.08474,0.07864,0.0869,0.07017,0.1812,0.05667,0.5435,0.7339,3.398,74.08,0.005225,0.01308,0.0186,0.0134,0.01389,0.003532,24.99,23.41,158.8,1956,0.1238,0.1866,0.2416,0.186,0.275,0.08902]\n",
        "\n",
        "# Convert input data to numpy array\n",
        "input_data_array = np.array(input_data).reshape(1, -1)\n",
        "\n",
        "# Make predictions for each model\n",
        "knn_prediction = knn_model.predict(input_data_array)\n",
        "rand_prediction = rand.predict(input_data_array)\n",
        "svm_prediction = classifier.predict(input_data_array)\n",
        "\n",
        "# Calculate accuracy for each model\n",
        "knn_accuracy = accuracy_score([1], knn_prediction)  # Assuming the true label is 1\n",
        "rand_accuracy = accuracy_score([1], rand_prediction)  # Assuming the true label is 1\n",
        "svm_accuracy = accuracy_score([1], svm_prediction)  # Assuming the true label is 1\n",
        "\n",
        "# Print predictions and accuracies\n",
        "print(\"KNN Prediction:\", knn_prediction)\n",
        "print(\"KNN Accuracy:\", knn_accuracy)\n",
        "if knn_prediction[0] == 1:\n",
        "    print('KNN: The Breast cancer is Malignant')\n",
        "else:\n",
        "    print('KNN: The Breast Cancer is Benign')\n",
        "\n",
        "print(\"Random Forest Prediction:\", rand_prediction)\n",
        "print(\"Random Forest Accuracy:\", rand_accuracy)\n",
        "if rand_prediction[0] == 1:\n",
        "    print('Random Forest: The Breast cancer is Malignant')\n",
        "else:\n",
        "    print('Random Forest: The Breast Cancer is Benign')\n",
        "\n",
        "print(\"SVM Prediction:\", svm_prediction)\n",
        "print(\"SVM Accuracy:\", svm_accuracy)\n",
        "if svm_prediction[0] == 1:\n",
        "    print('SVM: The Breast cancer is Malignant')\n",
        "else:\n",
        "    print('SVM: The Breast Cancer is Benign')\n"
      ]
    }
  ],
  "metadata": {
    "colab": {
      "provenance": []
    },
    "kernelspec": {
      "display_name": "Python 3",
      "name": "python3"
    },
    "language_info": {
      "codemirror_mode": {
        "name": "ipython",
        "version": 3
      },
      "file_extension": ".py",
      "mimetype": "text/x-python",
      "name": "python",
      "nbconvert_exporter": "python",
      "pygments_lexer": "ipython3",
      "version": "3.11.2"
    }
  },
  "nbformat": 4,
  "nbformat_minor": 0
}
